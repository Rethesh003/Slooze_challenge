{
  "nbformat": 4,
  "nbformat_minor": 5,
  "metadata": {
    "language_info": {
      "name": "python"
    }
  },
  "cells": [
    {
      "cell_type": "markdown",
      "metadata": {},
      "source": "# Inventory Optimization\n\nIdentifies under- and over-stocked products and recommends reorder levels based on demand patterns.\n\n**Dataset:** `data/inventory_data.csv`"
    },
    {
      "cell_type": "code",
      "execution_count": null,
      "metadata": {},
      "outputs": [],
      "source": "import pandas as pd\ndf = pd.read_csv('data/inventory_data.csv')\ndf.head()"
    },
    {
      "cell_type": "code",
      "execution_count": null,
      "metadata": {},
      "outputs": [],
      "source": "# Example: simple reorder point calculation (placeholder)\ndf['daily_sales'] = df['monthly_sales'] / 30\ndf['reorder_point'] = df['daily_sales'] * df['lead_time_days'] + df['safety_stock']\ndf[['product_id','stock_on_hand','reorder_point']].head()\n"
    }
  ]
}
