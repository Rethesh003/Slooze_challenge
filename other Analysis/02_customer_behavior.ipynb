{
  "nbformat": 4,
  "nbformat_minor": 5,
  "metadata": {
    "language_info": {
      "name": "python"
    }
  },
  "cells": [
    {
      "cell_type": "markdown",
      "metadata": {},
      "source": "# Customer Behavior\n\nSegments customers by purchase frequency, recency, and value to uncover retention opportunities.\n\n**Dataset:** `data/customer_data.csv`"
    },
    {
      "cell_type": "code",
      "execution_count": null,
      "metadata": {},
      "outputs": [],
      "source": "import pandas as pd\ndf = pd.read_csv('data/customer_data.csv')\ndf.head()"
    },
    {
      "cell_type": "code",
      "execution_count": null,
      "metadata": {},
      "outputs": [],
      "source": "# Example RFM pipeline\ndf['order_date'] = pd.to_datetime(df['order_date'], errors='coerce')\nsnapshot_date = df['order_date'].max() + pd.Timedelta(days=1)\nrfm = df.groupby('customer_id').agg({\n    'order_date': lambda x: (snapshot_date - x.max()).days,\n    'order_id': 'nunique',\n    'revenue': 'sum'\n}).rename(columns={'order_date':'recency','order_id':'frequency','revenue':'monetary'})\nrfm.head()\n"
    }
  ]
}
