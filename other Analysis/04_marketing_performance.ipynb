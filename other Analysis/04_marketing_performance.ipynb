{
  "nbformat": 4,
  "nbformat_minor": 5,
  "metadata": {
    "language_info": {
      "name": "python"
    }
  },
  "cells": [
    {
      "cell_type": "markdown",
      "metadata": {},
      "source": "# Marketing Performance\n\nMeasures campaign ROI, CTR, and conversion efficiency across multiple channels.\n\n**Dataset:** `data/marketing_data.csv`"
    },
    {
      "cell_type": "code",
      "execution_count": null,
      "metadata": {},
      "outputs": [],
      "source": "import pandas as pd\ndf = pd.read_csv('data/marketing_data.csv')\ndf.head()"
    },
    {
      "cell_type": "code",
      "execution_count": null,
      "metadata": {},
      "outputs": [],
      "source": "# Example: ROI calculation\ndf['roi'] = (df['revenue'] - df['spend']) / df['spend']\ndf.groupby('channel').agg({'spend':'sum','revenue':'sum','roi':'mean'}).reset_index()\n"
    }
  ]
}
