{
  "nbformat": 4,
  "nbformat_minor": 5,
  "metadata": {
    "language_info": {
      "name": "python"
    }
  },
  "cells": [
    {
      "cell_type": "markdown",
      "metadata": {},
      "source": "# Sales Analysis\n\n**Summary:** Explores total revenue, category-wise profit, and seasonal trends using pivot tables and visual charts.\n\n**Dataset:** `data/sales_data.csv`\n"
    },
    {
      "cell_type": "code",
      "execution_count": null,
      "metadata": {},
      "outputs": [],
      "source": "import pandas as pd\ndf = pd.read_csv('data/sales_data.csv')\ndf.head()\n"
    },
    {
      "cell_type": "code",
      "execution_count": null,
      "metadata": {},
      "outputs": [],
      "source": "# Basic cleaning steps included (examples)\ndf['order_date'] = pd.to_datetime(df['order_date'], errors='coerce')\ndf = df.dropna(subset=['order_id','order_date'])\n# summary metrics\nsummary = df.groupby(pd.Grouper(key='order_date', freq='M')).agg({'revenue':'sum','profit':'sum'}).reset_index()\nsummary.head()\n"
    }
  ]
}